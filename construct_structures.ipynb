{
 "cells": [
  {
   "cell_type": "code",
   "execution_count": 5,
   "id": "a353a874-be7a-4475-8206-fa3edd0aa1de",
   "metadata": {},
   "outputs": [],
   "source": [
    "import spglib\n",
    "from ase.spacegroup import get_spacegroup as ase_get_spacegroup\n",
    "\n",
    "def atoms_to_spglib_cell(atoms):\n",
    "    \"\"\"Convert ASE Atoms to a spglib-compatible cell tuple.\"\"\"\n",
    "    return (\n",
    "        atoms.get_cell(),\n",
    "        atoms.get_scaled_positions(),\n",
    "        atoms.get_atomic_numbers()\n",
    "    )\n",
    "\n",
    "def get_spacegroup(atoms, symprec=1e-5, angle_tolerance=5.0):\n",
    "    \"\"\"Wrapper: get spacegroup from ASE Atoms using spglib.\"\"\"\n",
    "    cell = atoms_to_spglib_cell(atoms)\n",
    "    return spglib.get_spacegroup(cell, symprec=symprec, angle_tolerance=angle_tolerance)"
   ]
  },
  {
   "cell_type": "code",
   "execution_count": 6,
   "id": "608f9b94-4d68-49f6-922e-2b79e0044c65",
   "metadata": {},
   "outputs": [
    {
     "name": "stdout",
     "output_type": "stream",
     "text": [
      "perovskite spacegroup: Pm-3m (221)\n"
     ]
    }
   ],
   "source": [
    "# parameters\n",
    "\n",
    "alat = 5.0\n",
    "tol = 0.1\n",
    "z_spacing = 3.5\n",
    "\n",
    "atoms_ideal = read('ZrBRh3_cubic_2x2x2_with_modes.extxyz')\n",
    "atoms1 = atoms_ideal.copy()\n",
    "atoms_ideal.set_cell([12,12,12], scale_atoms=True)\n",
    "\n",
    "# modes in extxyz\n",
    "modes = ['Mx', 'My', 'Mz', 'Rx', 'Ry', 'Rz']\n",
    "for mode in modes:\n",
    "    atoms1.set_array(mode + '1', atoms1.get_array(mode))\n",
    "    atoms1.set_array(mode, None)\n",
    "\n",
    "# ideal perovskite template\n",
    "atoms_full = atoms1.copy()\n",
    "print('perovskite spacegroup:', get_spacegroup(atoms_full))"
   ]
  },
  {
   "cell_type": "markdown",
   "id": "4afdcc60-3891-4401-bd55-e9b621bf4f19",
   "metadata": {},
   "source": [
    "# Apply modes"
   ]
  },
  {
   "cell_type": "markdown",
   "id": "e7e900ed-638f-45c0-9dcf-1506d3df41db",
   "metadata": {},
   "source": [
    "## P4/mbm (Mz)"
   ]
  },
  {
   "cell_type": "code",
   "execution_count": 3,
   "id": "668b98ba-6418-47f1-8e67-bcb1009af3f3",
   "metadata": {},
   "outputs": [
    {
     "name": "stdout",
     "output_type": "stream",
     "text": [
      "tilted perovskite spacegroup: P4/mbm (127)\n"
     ]
    }
   ],
   "source": [
    "# tit 2 \n",
    "traj = []\n",
    "amp = 1\n",
    "atoms = atoms_full.copy()\n",
    "atoms.positions += amp * atoms.get_array('Mz1')\n",
    "traj.append(atoms)\n",
    "\n",
    "print('tilted perovskite spacegroup:', spglib.get_spacegroup(atoms))\n",
    "write(f'structures/Glazer_structures/perovskite_{spglib.get_symmetry_dataset(atoms)[\"number\"]}.in', traj, format='aims')"
   ]
  },
  {
   "cell_type": "markdown",
   "id": "4261ab7b-862c-4df3-8d0a-d2b334bebabf",
   "metadata": {},
   "source": [
    "## I4/mcm (Rz)"
   ]
  },
  {
   "cell_type": "code",
   "execution_count": 4,
   "id": "be644e26-a708-4c41-9f5e-c5fe41205c8d",
   "metadata": {},
   "outputs": [
    {
     "name": "stdout",
     "output_type": "stream",
     "text": [
      "tilted perovskite spacegroup: I4/mcm (140)\n"
     ]
    }
   ],
   "source": [
    "traj = []\n",
    "atoms = atoms_full.copy()\n",
    "atoms.positions += amp * atoms.get_array('Rz1')\n",
    "traj.append(atoms)\n",
    "\n",
    "print('tilted perovskite spacegroup:', spglib.get_spacegroup(atoms))\n",
    "write(f'structures/Glazer_structures/perovskite_{spglib.get_symmetry_dataset(atoms)[\"number\"]}.in', traj, format='aims')"
   ]
  },
  {
   "cell_type": "markdown",
   "id": "a4bec1ed-7942-4add-9f63-21e2bcc103c7",
   "metadata": {},
   "source": [
    "## Imma (RzRz) "
   ]
  },
  {
   "cell_type": "code",
   "execution_count": 5,
   "id": "f938b108-1af8-4929-aed3-37c714e5ee31",
   "metadata": {},
   "outputs": [
    {
     "name": "stdout",
     "output_type": "stream",
     "text": [
      "tilted perovskite spacegroup: Imma (74)\n"
     ]
    }
   ],
   "source": [
    "traj = []\n",
    "atoms = atoms_full.copy()\n",
    "atoms.positions += amp * atoms.get_array('Rz1')\n",
    "atoms.positions += amp * atoms.get_array('Ry1')\n",
    "traj.append(atoms)\n",
    "\n",
    "print('tilted perovskite spacegroup:', spglib.get_spacegroup(atoms))\n",
    "write(f'structures/Glazer_structures/perovskite_{spglib.get_symmetry_dataset(atoms)[\"number\"]}.in', traj, format='aims')"
   ]
  },
  {
   "cell_type": "markdown",
   "id": "dfddb754-862d-47c1-a868-657002e2d2b0",
   "metadata": {},
   "source": [
    "## C2/m (RyRz)"
   ]
  },
  {
   "cell_type": "code",
   "execution_count": 6,
   "id": "eb082582-05aa-460c-80f7-87b3d157c461",
   "metadata": {},
   "outputs": [
    {
     "name": "stdout",
     "output_type": "stream",
     "text": [
      "tilted perovskite spacegroup: C2/m (12)\n"
     ]
    }
   ],
   "source": [
    "traj = []\n",
    "atoms = atoms_full.copy()\n",
    "atoms.positions += 0.5*amp * atoms.get_array('Ry1')\n",
    "atoms.positions += amp * atoms.get_array('Rz1')\n",
    "traj.append(atoms)\n",
    "\n",
    "print('tilted perovskite spacegroup:', spglib.get_spacegroup(atoms))\n",
    "write(f'structures/Glazer_structures/perovskite_{spglib.get_symmetry_dataset(atoms)[\"number\"]}.in', traj, format='aims')"
   ]
  },
  {
   "cell_type": "markdown",
   "id": "441dc05d-db17-4c0d-8021-c005df1fd8d3",
   "metadata": {},
   "source": [
    "## Cmcm (MyMz)"
   ]
  },
  {
   "cell_type": "code",
   "execution_count": 7,
   "id": "29286b10-e03e-4d99-94d4-1da2ec4c340d",
   "metadata": {},
   "outputs": [
    {
     "name": "stdout",
     "output_type": "stream",
     "text": [
      "tilted perovskite spacegroup: Cmcm (63)\n"
     ]
    }
   ],
   "source": [
    "traj = []\n",
    "atoms = atoms_full.copy()\n",
    "atoms.positions += amp * atoms.get_array('My1')\n",
    "atoms.positions += 0.5*amp * atoms.get_array('Rz1')\n",
    "traj.append(atoms)\n",
    "\n",
    "print('tilted perovskite spacegroup:', spglib.get_spacegroup(atoms))\n",
    "write(f'structures/Glazer_structures/perovskite_{spglib.get_symmetry_dataset(atoms)[\"number\"]}.in', traj, format='aims')"
   ]
  },
  {
   "cell_type": "markdown",
   "id": "5bd91688-525d-4baf-9a34-5baa2e215a25",
   "metadata": {},
   "source": [
    "## I4/mcm (MzMz)"
   ]
  },
  {
   "cell_type": "code",
   "execution_count": 8,
   "id": "7b7b834b-df60-46ef-8c9e-cda7f7f6d181",
   "metadata": {},
   "outputs": [
    {
     "name": "stdout",
     "output_type": "stream",
     "text": [
      "tilted perovskite spacegroup: I4/mmm (139)\n"
     ]
    }
   ],
   "source": [
    "traj = []\n",
    "atoms = atoms_full.copy()\n",
    "atoms.positions += amp * atoms.get_array('My1')\n",
    "atoms.positions += amp * atoms.get_array('Mz1')\n",
    "traj.append(atoms)\n",
    "\n",
    "print('tilted perovskite spacegroup:', spglib.get_spacegroup(atoms))\n",
    "write(f'structures/Glazer_structures/perovskite_{spglib.get_symmetry_dataset(atoms)[\"number\"]}.in', traj, format='aims')"
   ]
  },
  {
   "cell_type": "markdown",
   "id": "e7c0eb39-b07d-47e5-8bba-852140df3c45",
   "metadata": {},
   "source": [
    "## R-3c (RxRxRx) "
   ]
  },
  {
   "cell_type": "code",
   "execution_count": 9,
   "id": "5b62b331-1978-4a89-b0a4-39eb336b3195",
   "metadata": {},
   "outputs": [
    {
     "name": "stdout",
     "output_type": "stream",
     "text": [
      "tilted perovskite spacegroup: R-3c (167)\n"
     ]
    }
   ],
   "source": [
    "traj = []\n",
    "atoms = atoms_full.copy()\n",
    "atoms.positions += amp * atoms.get_array('Rx1')\n",
    "atoms.positions += amp * atoms.get_array('Ry1')\n",
    "atoms.positions += amp * atoms.get_array('Rz1')\n",
    "traj.append(atoms)\n",
    "\n",
    "print('tilted perovskite spacegroup:', spglib.get_spacegroup(atoms))\n",
    "write(f'structures/Glazer_structures/perovskite_{spglib.get_symmetry_dataset(atoms)[\"number\"]}.in', traj, format='aims')"
   ]
  },
  {
   "cell_type": "markdown",
   "id": "c77d6a15-4c60-4c41-b9fa-bf64ed97884a",
   "metadata": {},
   "source": [
    "## C2/c (RxRzRz)"
   ]
  },
  {
   "cell_type": "code",
   "execution_count": 10,
   "id": "fd9c0895-f895-439b-bcab-d09094468a8d",
   "metadata": {},
   "outputs": [
    {
     "name": "stdout",
     "output_type": "stream",
     "text": [
      "tilted perovskite spacegroup: C2/c (15)\n"
     ]
    }
   ],
   "source": [
    "traj = []\n",
    "atoms = atoms_full.copy()\n",
    "atoms.positions += amp * atoms.get_array('Rx1')\n",
    "atoms.positions += 0.5* amp * atoms.get_array('Ry1')\n",
    "atoms.positions += 0.5* amp * atoms.get_array('Rz1')\n",
    "traj.append(atoms)\n",
    "\n",
    "print('tilted perovskite spacegroup:', spglib.get_spacegroup(atoms))\n",
    "write(f'structures/Glazer_structures/perovskite_{spglib.get_symmetry_dataset(atoms)[\"number\"]}.in', traj, format='aims')"
   ]
  },
  {
   "cell_type": "markdown",
   "id": "7e721397-261a-4981-843a-0678fe990818",
   "metadata": {},
   "source": [
    "## P-1 (RxRyRz)"
   ]
  },
  {
   "cell_type": "code",
   "execution_count": 11,
   "id": "1ccc4f78-dd65-4dce-bcab-6117ec685c03",
   "metadata": {},
   "outputs": [
    {
     "name": "stdout",
     "output_type": "stream",
     "text": [
      "tilted perovskite spacegroup: P-1 (2)\n"
     ]
    }
   ],
   "source": [
    "traj = []\n",
    "atoms = atoms_full.copy()\n",
    "atoms.positions += amp * atoms.get_array('Rx1')\n",
    "atoms.positions += 0.66* amp * atoms.get_array('Ry1')\n",
    "atoms.positions += 0.33* amp * atoms.get_array('Rz1')\n",
    "traj.append(atoms)\n",
    "\n",
    "print('tilted perovskite spacegroup:', spglib.get_spacegroup(atoms))\n",
    "write(f'structures/Glazer_structures/perovskite_{spglib.get_symmetry_dataset(atoms)[\"number\"]}.in', traj, format='aims')"
   ]
  },
  {
   "cell_type": "markdown",
   "id": "fd2d6557-8482-42ba-9fa0-2801c69a9312",
   "metadata": {},
   "source": [
    "## Pnma (MxRyRy) "
   ]
  },
  {
   "cell_type": "code",
   "execution_count": 12,
   "id": "e1e899bc-b340-432b-a1af-829dd3620617",
   "metadata": {},
   "outputs": [
    {
     "name": "stdout",
     "output_type": "stream",
     "text": [
      "tilted perovskite spacegroup: Pnma (62)\n"
     ]
    }
   ],
   "source": [
    "traj = []\n",
    "atoms = atoms_full.copy()\n",
    "atoms.positions += amp * atoms.get_array('Mx1')\n",
    "atoms.positions += 0.5 * amp * atoms.get_array('Ry1')\n",
    "atoms.positions += 0.5 * amp * atoms.get_array('Rz1')\n",
    "traj.append(atoms)\n",
    "\n",
    "print('tilted perovskite spacegroup:', spglib.get_spacegroup(atoms))\n",
    "write(f'structures/Glazer_structures/perovskite_{spglib.get_symmetry_dataset(atoms)[\"number\"]}.in', traj, format='aims')"
   ]
  },
  {
   "cell_type": "markdown",
   "id": "ba5053e2-cf39-4339-be16-308d48530df5",
   "metadata": {},
   "source": [
    "## P2_1/m (MxRyRz)"
   ]
  },
  {
   "cell_type": "code",
   "execution_count": 13,
   "id": "f330366a-9b33-4511-9e0d-2bc859e65ba5",
   "metadata": {},
   "outputs": [
    {
     "name": "stdout",
     "output_type": "stream",
     "text": [
      "tilted perovskite spacegroup: P2_1/m (11)\n"
     ]
    }
   ],
   "source": [
    "traj = []\n",
    "atoms = atoms_full.copy()\n",
    "atoms.positions += amp * atoms.get_array('Mx1')\n",
    "atoms.positions += 0.66 * amp * atoms.get_array('Ry1')\n",
    "atoms.positions += 0.33 * amp * atoms.get_array('Rz1')\n",
    "traj.append(atoms)\n",
    "\n",
    "print('tilted perovskite spacegroup:', spglib.get_spacegroup(atoms))\n",
    "write(f'structures/Glazer_structures/perovskite_{spglib.get_symmetry_dataset(atoms)[\"number\"]}.in', traj, format='aims')"
   ]
  },
  {
   "cell_type": "markdown",
   "id": "53d38b17-4e6f-41be-bf79-457efcf8f92f",
   "metadata": {},
   "source": [
    "# P4_2/nmc (MxMyRz)"
   ]
  },
  {
   "cell_type": "code",
   "execution_count": 14,
   "id": "f3aecd28-00a9-44a1-a468-b43997464c93",
   "metadata": {},
   "outputs": [
    {
     "name": "stdout",
     "output_type": "stream",
     "text": [
      "tilted perovskite spacegroup: P4_2/nmc (137)\n"
     ]
    }
   ],
   "source": [
    "traj = []\n",
    "atoms = atoms_full.copy()\n",
    "atoms.positions += amp * atoms.get_array('Mx1')\n",
    "atoms.positions += amp * atoms.get_array('My1')\n",
    "atoms.positions += 0.5 * amp * atoms.get_array('Rz1')\n",
    "traj.append(atoms)\n",
    "\n",
    "print('tilted perovskite spacegroup:', spglib.get_spacegroup(atoms))\n",
    "write(f'structures/Glazer_structures/perovskite_{spglib.get_symmetry_dataset(atoms)[\"number\"]}.in', traj, format='aims')"
   ]
  },
  {
   "cell_type": "markdown",
   "id": "05c52715-8cb1-4ae6-af6d-dca6d7ff3978",
   "metadata": {},
   "source": [
    "## Im-3 (MxMxMx)"
   ]
  },
  {
   "cell_type": "code",
   "execution_count": 15,
   "id": "3d7695b6-7368-4ec5-807c-5d9109244d7f",
   "metadata": {},
   "outputs": [
    {
     "name": "stdout",
     "output_type": "stream",
     "text": [
      "tilted perovskite spacegroup: Im-3 (204)\n"
     ]
    }
   ],
   "source": [
    "traj = []\n",
    "atoms = atoms_full.copy()\n",
    "atoms.positions += amp * atoms.get_array('Mx1')\n",
    "atoms.positions += amp * atoms.get_array('My1')\n",
    "atoms.positions += amp * atoms.get_array('Mz1')\n",
    "traj.append(atoms)\n",
    "\n",
    "print('tilted perovskite spacegroup:', spglib.get_spacegroup(atoms))\n",
    "write(f'structures/Glazer_structures/perovskite_{spglib.get_symmetry_dataset(atoms)[\"number\"]}.in', traj, format='aims')"
   ]
  },
  {
   "cell_type": "markdown",
   "id": "7286cc6c-455a-43bf-937c-0ab4f86a673f",
   "metadata": {},
   "source": [
    "## Imma (MxMyMz) "
   ]
  },
  {
   "cell_type": "code",
   "execution_count": 16,
   "id": "3e8ad37a-2705-4d64-a82e-1279cdb2663c",
   "metadata": {},
   "outputs": [
    {
     "name": "stdout",
     "output_type": "stream",
     "text": [
      "tilted perovskite spacegroup: Immm (71)\n"
     ]
    }
   ],
   "source": [
    "traj = []\n",
    "atoms = atoms_full.copy()\n",
    "atoms.positions += amp * atoms.get_array('Mx1')\n",
    "atoms.positions += 0.66 * amp * atoms.get_array('My1')\n",
    "atoms.positions += 0.33 * amp * atoms.get_array('Mz1')\n",
    "traj.append(atoms)\n",
    "\n",
    "print('tilted perovskite spacegroup:', spglib.get_spacegroup(atoms))\n",
    "write(f'structures/Glazer_structures/perovskite_{spglib.get_symmetry_dataset(atoms)[\"number\"]}.in', traj, format='aims')"
   ]
  }
 ],
 "metadata": {
  "kernelspec": {
   "display_name": "Python 3 (ipykernel)",
   "language": "python",
   "name": "python3"
  },
  "language_info": {
   "codemirror_mode": {
    "name": "ipython",
    "version": 3
   },
   "file_extension": ".py",
   "mimetype": "text/x-python",
   "name": "python",
   "nbconvert_exporter": "python",
   "pygments_lexer": "ipython3",
   "version": "3.13.5"
  }
 },
 "nbformat": 4,
 "nbformat_minor": 5
}
